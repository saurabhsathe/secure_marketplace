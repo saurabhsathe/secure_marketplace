{
 "cells": [
  {
   "cell_type": "code",
<<<<<<< HEAD
   "execution_count": 4,
=======
   "execution_count": 3,
>>>>>>> 639627bea6c22134a82a033e2bf4cf23b5f8ffea
   "id": "a1615972",
   "metadata": {},
   "outputs": [
    {
     "name": "stderr",
     "output_type": "stream",
     "text": [
      "[nltk_data] Downloading package wordnet to\n",
      "[nltk_data]     C:\\Users\\16692\\AppData\\Roaming\\nltk_data...\n",
      "[nltk_data]   Package wordnet is already up-to-date!\n"
     ]
    },
    {
     "data": {
      "text/plain": [
       "True"
      ]
     },
<<<<<<< HEAD
     "execution_count": 4,
=======
     "execution_count": 3,
>>>>>>> 639627bea6c22134a82a033e2bf4cf23b5f8ffea
     "metadata": {},
     "output_type": "execute_result"
    }
   ],
   "source": [
    "import numpy as np\n",
    "import pandas as pd\n",
    "import seaborn as sns\n",
    "import matplotlib.pyplot as plt\n",
    "%matplotlib inline\n",
    "import warnings\n",
    "warnings.filterwarnings('ignore')\n",
    "from nltk.corpus import stopwords\n",
    "from sklearn.feature_extraction.text import TfidfTransformer, CountVectorizer\n",
    "from sklearn.metrics import classification_report, confusion_matrix\n",
    "from sklearn.model_selection import train_test_split\n",
    "import string, nltk\n",
    "from nltk import word_tokenize\n",
    "from nltk.stem import PorterStemmer\n",
    "from nltk.stem import WordNetLemmatizer\n",
<<<<<<< HEAD
    "\n",
=======
>>>>>>> 639627bea6c22134a82a033e2bf4cf23b5f8ffea
    "nltk.download('wordnet')"
   ]
  },
  {
   "cell_type": "code",
<<<<<<< HEAD
   "execution_count": 11,
   "id": "c849e4db",
   "metadata": {},
   "outputs": [],
   "source": [
    "import pickle\n",
    "def text_process(review):\n",
    "    nopunc = [char for char in review if char not in string.punctuation]\n",
    "    nopunc = ''.join(nopunc)\n",
    "    return [word for word in nopunc.split() if word.lower() not in stopwords.words('english')]\n",
    "f= open('bow_transformer.pkl', 'rb')\n",
    "bow_transformer = pickle.load(f)\n",
    "f= open('tfidf_transformer.pkl', 'rb')\n",
    "tfidf_transformer = pickle.load(f)\n",
    "f= open('random_forest.pkl', 'rb')\n",
    "model = pickle.load(f)\n"
   ]
  },
  {
   "cell_type": "code",
   "execution_count": 6,
=======
   "execution_count": 4,
>>>>>>> 639627bea6c22134a82a033e2bf4cf23b5f8ffea
   "id": "7ab406ad",
   "metadata": {},
   "outputs": [],
   "source": [
    "def clean_text(text):\n",
    "    nopunc = [w for w in text if w not in string.punctuation]\n",
    "    nopunc = ''.join(nopunc)\n",
    "    return  ' '.join([word for word in nopunc.split() if word.lower() not in stopwords.words('english')])\n",
    "\n",
    "def preprocess(text):\n",
    "    return ' '.join([word for word in word_tokenize(text) if word not in stopwords.words('english') and not word.isdigit() and word not in string.punctuation])\n",
    "\n",
    "stemmer = PorterStemmer()\n",
    "def stem_words(text):\n",
    "    return ' '.join([stemmer.stem(word) for word in text.split()])\n",
    "\n",
    "\n",
    "lemmatizer = WordNetLemmatizer()\n",
    "def lemmatize_words(text):\n",
    "    return ' '.join([lemmatizer.lemmatize(word) for word in text.split()])\n",
<<<<<<< HEAD
    "\n",
    "def text_process(review):\n",
    "    nopunc = [char for char in review if char not in string.punctuation]\n",
    "    nopunc = ''.join(nopunc)\n",
    "    return [word for word in nopunc.split() if word.lower() not in stopwords.words('english')]\n",
    "\n",
    "def create_bag_of_words(review):\n",
    "    return bow_transformer.transform(review)\n",
    "\n",
    "def create_tfidf(review):\n",
    "    return tfidf_transformer.transform(review)\n",
    "\n",
    "def predict_results(review):\n",
    "    return model.predict(review)"
=======
    "\n"
>>>>>>> 639627bea6c22134a82a033e2bf4cf23b5f8ffea
   ]
  },
  {
   "cell_type": "code",
<<<<<<< HEAD
   "execution_count": 12,
=======
   "execution_count": 5,
>>>>>>> 639627bea6c22134a82a033e2bf4cf23b5f8ffea
   "id": "7febf3af",
   "metadata": {},
   "outputs": [],
   "source": [
    "def pipeline_step1(txt):\n",
    "    s1 = clean_text(txt)\n",
    "    s2=preprocess(s1)\n",
    "    s3=stem_words(s2)\n",
<<<<<<< HEAD
    "    s4=create_bag_of_words([s3])\n",
    "    s5=create_tfidf(s4)\n",
    "    s6 = predict_results(s5)\n",
    "    return s6"
=======
    "    return lemmatize_words(s3)"
>>>>>>> 639627bea6c22134a82a033e2bf4cf23b5f8ffea
   ]
  },
  {
   "cell_type": "code",
<<<<<<< HEAD
   "execution_count": 15,
   "id": "2c3247be",
   "metadata": {},
   "outputs": [
    {
     "name": "stdout",
     "output_type": "stream",
     "text": [
      "['OR']\n"
     ]
    }
   ],
   "source": []
  },
  {
   "cell_type": "code",
=======
>>>>>>> 639627bea6c22134a82a033e2bf4cf23b5f8ffea
   "execution_count": 17,
   "id": "dd8aa969",
   "metadata": {},
   "outputs": [
    {
     "name": "stdout",
     "output_type": "stream",
     "text": [
      " * Serving Flask app \"__main__\" (lazy loading)\n",
      " * Environment: production\n",
      "\u001b[31m   WARNING: This is a development server. Do not use it in a production deployment.\u001b[0m\n",
      "\u001b[2m   Use a production WSGI server instead.\u001b[0m\n",
      " * Debug mode: off\n"
     ]
    },
    {
     "name": "stderr",
     "output_type": "stream",
     "text": [
      " * Running on http://127.0.0.1:5555/ (Press CTRL+C to quit)\n"
     ]
    }
   ],
   "source": [
    "\n",
    "from flask import Flask, jsonify, request\n",
    "\n",
    "from flask_cors import CORS, cross_origin\n",
    "import json\n",
    "# In[3]:\n",
    "app= Flask(__name__)\n",
    "cors = CORS(app)\n",
    "\n",
    "import random\n",
    "@app.route('/predict',methods=[\"POST\"])\n",
    "def predict():\n",
    "    data=json.loads(request.data)\n",
    "    print(data)\n",
    "    rating=data[\"rating\"]\n",
    "    raw_text = data[\"text\"]\n",
    "    preprocessed_text = pipeline_step1(raw_text)\n",
    "    \n",
    "    return random.choice([\"fake\",\"real\"])\n",
    "\n",
    "    \n",
    "#  main thread of execution to start the server\n",
    "if __name__=='__main__':\n",
    "    app.run(host=\"127.0.0.1\",port=5555)"
   ]
  },
  {
   "cell_type": "code",
   "execution_count": null,
   "id": "207d70e3",
   "metadata": {},
   "outputs": [],
   "source": []
  }
 ],
 "metadata": {
  "kernelspec": {
   "display_name": "Python 3 (ipykernel)",
   "language": "python",
   "name": "python3"
  },
  "language_info": {
   "codemirror_mode": {
    "name": "ipython",
    "version": 3
   },
   "file_extension": ".py",
   "mimetype": "text/x-python",
   "name": "python",
   "nbconvert_exporter": "python",
   "pygments_lexer": "ipython3",
   "version": "3.9.7"
  }
 },
 "nbformat": 4,
 "nbformat_minor": 5
}
